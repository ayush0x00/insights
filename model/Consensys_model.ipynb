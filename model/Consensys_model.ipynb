{
  "nbformat": 4,
  "nbformat_minor": 0,
  "metadata": {
    "colab": {
      "provenance": []
    },
    "kernelspec": {
      "name": "python3",
      "display_name": "Python 3"
    },
    "language_info": {
      "name": "python"
    }
  },
  "cells": [
    {
      "cell_type": "code",
      "execution_count": 1,
      "metadata": {
        "colab": {
          "base_uri": "https://localhost:8080/"
        },
        "id": "Aqe2Al8CiSwx",
        "outputId": "46d31b1f-7c94-427c-d23d-07b487e4784f",
        "collapsed": true
      },
      "outputs": [
        {
          "output_type": "stream",
          "name": "stdout",
          "text": [
            "Mounted at /content/drive\n"
          ]
        }
      ],
      "source": [
        "from google.colab import drive\n",
        "drive.mount('/content/drive')"
      ]
    },
    {
      "cell_type": "code",
      "source": [
        "import pandas as pd\n",
        "import numpy as np"
      ],
      "metadata": {
        "id": "0xSWG5agjLtr"
      },
      "execution_count": 10,
      "outputs": []
    },
    {
      "cell_type": "code",
      "source": [
        "data = pd.read_csv(\"/content/drive/MyDrive/data/preprocessed_data.csv\")"
      ],
      "metadata": {
        "id": "kNZY7avnjNXC"
      },
      "execution_count": 3,
      "outputs": []
    },
    {
      "cell_type": "code",
      "source": [
        "data.head()"
      ],
      "metadata": {
        "colab": {
          "base_uri": "https://localhost:8080/",
          "height": 204
        },
        "id": "MH0oniiLjaqm",
        "outputId": "8dfca039-c590-419f-a52b-c5dbfc80aa15"
      },
      "execution_count": 4,
      "outputs": [
        {
          "output_type": "execute_result",
          "data": {
            "text/plain": [
              "   Unnamed: 0  Unnamed: 0.1 vulnerable  \\\n",
              "0           0             0        [1]   \n",
              "1           1             1    [3 2 1]   \n",
              "2           2             2        [4]   \n",
              "3           3             3        [4]   \n",
              "4           4             4      [2 5]   \n",
              "\n",
              "                                                code      len  \\\n",
              "0  PUSH1 0x80 PUSH1 0x40 MSTORE CALLVALUE DUP1 IS...  26729.0   \n",
              "1  PUSH1 0x80 PUSH1 0x40 MSTORE CALLVALUE DUP1 IS...  64351.0   \n",
              "2  PUSH1 0x80 PUSH1 0x40 MSTORE CALLVALUE DUP1 IS...   7465.0   \n",
              "3  PUSH1 0x80 PUSH1 0x40 MSTORE CALLVALUE DUP1 IS...  47062.0   \n",
              "4  PUSH1 0x80 PUSH1 0x40 MSTORE CALLVALUE DUP1 IS...  76061.0   \n",
              "\n",
              "             vul_code  \n",
              "0  [0, 1, 0, 0, 0, 0]  \n",
              "1  [0, 1, 1, 1, 0, 0]  \n",
              "2  [0, 0, 0, 0, 1, 0]  \n",
              "3  [0, 0, 0, 0, 1, 0]  \n",
              "4  [0, 0, 1, 0, 0, 1]  "
            ],
            "text/html": [
              "\n",
              "  <div id=\"df-3100e679-a811-4d20-8980-e97982665ce3\">\n",
              "    <div class=\"colab-df-container\">\n",
              "      <div>\n",
              "<style scoped>\n",
              "    .dataframe tbody tr th:only-of-type {\n",
              "        vertical-align: middle;\n",
              "    }\n",
              "\n",
              "    .dataframe tbody tr th {\n",
              "        vertical-align: top;\n",
              "    }\n",
              "\n",
              "    .dataframe thead th {\n",
              "        text-align: right;\n",
              "    }\n",
              "</style>\n",
              "<table border=\"1\" class=\"dataframe\">\n",
              "  <thead>\n",
              "    <tr style=\"text-align: right;\">\n",
              "      <th></th>\n",
              "      <th>Unnamed: 0</th>\n",
              "      <th>Unnamed: 0.1</th>\n",
              "      <th>vulnerable</th>\n",
              "      <th>code</th>\n",
              "      <th>len</th>\n",
              "      <th>vul_code</th>\n",
              "    </tr>\n",
              "  </thead>\n",
              "  <tbody>\n",
              "    <tr>\n",
              "      <th>0</th>\n",
              "      <td>0</td>\n",
              "      <td>0</td>\n",
              "      <td>[1]</td>\n",
              "      <td>PUSH1 0x80 PUSH1 0x40 MSTORE CALLVALUE DUP1 IS...</td>\n",
              "      <td>26729.0</td>\n",
              "      <td>[0, 1, 0, 0, 0, 0]</td>\n",
              "    </tr>\n",
              "    <tr>\n",
              "      <th>1</th>\n",
              "      <td>1</td>\n",
              "      <td>1</td>\n",
              "      <td>[3 2 1]</td>\n",
              "      <td>PUSH1 0x80 PUSH1 0x40 MSTORE CALLVALUE DUP1 IS...</td>\n",
              "      <td>64351.0</td>\n",
              "      <td>[0, 1, 1, 1, 0, 0]</td>\n",
              "    </tr>\n",
              "    <tr>\n",
              "      <th>2</th>\n",
              "      <td>2</td>\n",
              "      <td>2</td>\n",
              "      <td>[4]</td>\n",
              "      <td>PUSH1 0x80 PUSH1 0x40 MSTORE CALLVALUE DUP1 IS...</td>\n",
              "      <td>7465.0</td>\n",
              "      <td>[0, 0, 0, 0, 1, 0]</td>\n",
              "    </tr>\n",
              "    <tr>\n",
              "      <th>3</th>\n",
              "      <td>3</td>\n",
              "      <td>3</td>\n",
              "      <td>[4]</td>\n",
              "      <td>PUSH1 0x80 PUSH1 0x40 MSTORE CALLVALUE DUP1 IS...</td>\n",
              "      <td>47062.0</td>\n",
              "      <td>[0, 0, 0, 0, 1, 0]</td>\n",
              "    </tr>\n",
              "    <tr>\n",
              "      <th>4</th>\n",
              "      <td>4</td>\n",
              "      <td>4</td>\n",
              "      <td>[2 5]</td>\n",
              "      <td>PUSH1 0x80 PUSH1 0x40 MSTORE CALLVALUE DUP1 IS...</td>\n",
              "      <td>76061.0</td>\n",
              "      <td>[0, 0, 1, 0, 0, 1]</td>\n",
              "    </tr>\n",
              "  </tbody>\n",
              "</table>\n",
              "</div>\n",
              "      <button class=\"colab-df-convert\" onclick=\"convertToInteractive('df-3100e679-a811-4d20-8980-e97982665ce3')\"\n",
              "              title=\"Convert this dataframe to an interactive table.\"\n",
              "              style=\"display:none;\">\n",
              "        \n",
              "  <svg xmlns=\"http://www.w3.org/2000/svg\" height=\"24px\"viewBox=\"0 0 24 24\"\n",
              "       width=\"24px\">\n",
              "    <path d=\"M0 0h24v24H0V0z\" fill=\"none\"/>\n",
              "    <path d=\"M18.56 5.44l.94 2.06.94-2.06 2.06-.94-2.06-.94-.94-2.06-.94 2.06-2.06.94zm-11 1L8.5 8.5l.94-2.06 2.06-.94-2.06-.94L8.5 2.5l-.94 2.06-2.06.94zm10 10l.94 2.06.94-2.06 2.06-.94-2.06-.94-.94-2.06-.94 2.06-2.06.94z\"/><path d=\"M17.41 7.96l-1.37-1.37c-.4-.4-.92-.59-1.43-.59-.52 0-1.04.2-1.43.59L10.3 9.45l-7.72 7.72c-.78.78-.78 2.05 0 2.83L4 21.41c.39.39.9.59 1.41.59.51 0 1.02-.2 1.41-.59l7.78-7.78 2.81-2.81c.8-.78.8-2.07 0-2.86zM5.41 20L4 18.59l7.72-7.72 1.47 1.35L5.41 20z\"/>\n",
              "  </svg>\n",
              "      </button>\n",
              "      \n",
              "  <style>\n",
              "    .colab-df-container {\n",
              "      display:flex;\n",
              "      flex-wrap:wrap;\n",
              "      gap: 12px;\n",
              "    }\n",
              "\n",
              "    .colab-df-convert {\n",
              "      background-color: #E8F0FE;\n",
              "      border: none;\n",
              "      border-radius: 50%;\n",
              "      cursor: pointer;\n",
              "      display: none;\n",
              "      fill: #1967D2;\n",
              "      height: 32px;\n",
              "      padding: 0 0 0 0;\n",
              "      width: 32px;\n",
              "    }\n",
              "\n",
              "    .colab-df-convert:hover {\n",
              "      background-color: #E2EBFA;\n",
              "      box-shadow: 0px 1px 2px rgba(60, 64, 67, 0.3), 0px 1px 3px 1px rgba(60, 64, 67, 0.15);\n",
              "      fill: #174EA6;\n",
              "    }\n",
              "\n",
              "    [theme=dark] .colab-df-convert {\n",
              "      background-color: #3B4455;\n",
              "      fill: #D2E3FC;\n",
              "    }\n",
              "\n",
              "    [theme=dark] .colab-df-convert:hover {\n",
              "      background-color: #434B5C;\n",
              "      box-shadow: 0px 1px 3px 1px rgba(0, 0, 0, 0.15);\n",
              "      filter: drop-shadow(0px 1px 2px rgba(0, 0, 0, 0.3));\n",
              "      fill: #FFFFFF;\n",
              "    }\n",
              "  </style>\n",
              "\n",
              "      <script>\n",
              "        const buttonEl =\n",
              "          document.querySelector('#df-3100e679-a811-4d20-8980-e97982665ce3 button.colab-df-convert');\n",
              "        buttonEl.style.display =\n",
              "          google.colab.kernel.accessAllowed ? 'block' : 'none';\n",
              "\n",
              "        async function convertToInteractive(key) {\n",
              "          const element = document.querySelector('#df-3100e679-a811-4d20-8980-e97982665ce3');\n",
              "          const dataTable =\n",
              "            await google.colab.kernel.invokeFunction('convertToInteractive',\n",
              "                                                     [key], {});\n",
              "          if (!dataTable) return;\n",
              "\n",
              "          const docLinkHtml = 'Like what you see? Visit the ' +\n",
              "            '<a target=\"_blank\" href=https://colab.research.google.com/notebooks/data_table.ipynb>data table notebook</a>'\n",
              "            + ' to learn more about interactive tables.';\n",
              "          element.innerHTML = '';\n",
              "          dataTable['output_type'] = 'display_data';\n",
              "          await google.colab.output.renderOutput(dataTable, element);\n",
              "          const docLink = document.createElement('div');\n",
              "          docLink.innerHTML = docLinkHtml;\n",
              "          element.appendChild(docLink);\n",
              "        }\n",
              "      </script>\n",
              "    </div>\n",
              "  </div>\n",
              "  "
            ]
          },
          "metadata": {},
          "execution_count": 4
        }
      ]
    },
    {
      "cell_type": "code",
      "source": [
        "def encode(l):\n",
        "  d=[]\n",
        "  for i in l:\n",
        "    if i in ['[',']',',',' ']:\n",
        "      continue\n",
        "    d.append(int(i))\n",
        "  # print(d)\n",
        "  return d"
      ],
      "metadata": {
        "id": "mRUuGDJvsOH6"
      },
      "execution_count": 6,
      "outputs": []
    },
    {
      "cell_type": "code",
      "source": [
        "y = data['vul_code'].map(encode)"
      ],
      "metadata": {
        "id": "aigvPgV9omTf"
      },
      "execution_count": 7,
      "outputs": []
    },
    {
      "cell_type": "code",
      "source": [
        "ohe_labels = []\n",
        "for i in y:\n",
        "  ohe_labels.append(i)"
      ],
      "metadata": {
        "id": "W847CwJcweZM"
      },
      "execution_count": 8,
      "outputs": []
    },
    {
      "cell_type": "code",
      "source": [
        "labels = np.array(ohe_labels)\n",
        "labels.shape"
      ],
      "metadata": {
        "id": "c3vqEmmowta0",
        "colab": {
          "base_uri": "https://localhost:8080/"
        },
        "outputId": "44d1fdec-8144-4b78-8bfc-c8740f87e21b"
      },
      "execution_count": 11,
      "outputs": [
        {
          "output_type": "execute_result",
          "data": {
            "text/plain": [
              "(79641, 6)"
            ]
          },
          "metadata": {},
          "execution_count": 11
        }
      ]
    },
    {
      "cell_type": "code",
      "source": [
        "import matplotlib.pyplot as plt\n",
        "import seaborn as sns\n",
        "import tensorflow as tf\n",
        "from keras.preprocessing.text import Tokenizer\n",
        "from tensorflow.keras.preprocessing.sequence import pad_sequences\n",
        "from keras.models import Sequential\n",
        "from keras.layers import Dense, Embedding, LSTM, SpatialDropout1D\n",
        "from sklearn.model_selection import train_test_split\n",
        "from keras.utils.np_utils import to_categorical\n",
        "from keras.callbacks import EarlyStopping\n",
        "from keras.layers import Dropout\n",
        "from keras.optimizers import Adam\n"
      ],
      "metadata": {
        "id": "gCzTG7k1kSrr"
      },
      "execution_count": 12,
      "outputs": []
    },
    {
      "cell_type": "code",
      "source": [
        "data['code']=data['code'].astype(str) #Converting stream of tokens as string"
      ],
      "metadata": {
        "id": "opgoMNmSkdwh"
      },
      "execution_count": 13,
      "outputs": []
    },
    {
      "cell_type": "code",
      "source": [
        "MAX_WORDS = 41000\n",
        "SEQ_LEN = 250\n",
        "EMBEDDING_LAYER_DIM = 100\n",
        "\n",
        "\n",
        "tokenizer = Tokenizer(num_words=MAX_WORDS,lower=True)\n",
        "tokenizer.fit_on_texts(data['code']) #in disassembled data\n",
        "word_index = tokenizer.word_index\n",
        "print('Found %s unique tokens.' % len(word_index))"
      ],
      "metadata": {
        "colab": {
          "base_uri": "https://localhost:8080/"
        },
        "id": "SWsEE8lykls5",
        "outputId": "90a58ddf-e4c3-4822-fffe-6efe0a645e88"
      },
      "execution_count": 14,
      "outputs": [
        {
          "output_type": "stream",
          "name": "stdout",
          "text": [
            "Found 663452 unique tokens.\n"
          ]
        }
      ]
    },
    {
      "cell_type": "code",
      "source": [
        "X = tokenizer.texts_to_sequences(data['code']) #tokenizing sequences\n",
        "X = pad_sequences(X, maxlen=SEQ_LEN)\n",
        "print('Shape of data tensor:', X.shape)"
      ],
      "metadata": {
        "colab": {
          "base_uri": "https://localhost:8080/"
        },
        "id": "i67um6FDkoGV",
        "outputId": "135aefa0-092f-4bae-823c-79dd1780b7d7"
      },
      "execution_count": 15,
      "outputs": [
        {
          "output_type": "stream",
          "name": "stdout",
          "text": [
            "Shape of data tensor: (79641, 250)\n"
          ]
        }
      ]
    },
    {
      "cell_type": "code",
      "source": [
        "X_train, X_val, Y_train, Y_val = train_test_split(X,labels, test_size = 0.2, random_state = 42) #splitting training data into train + validation\n",
        "print(X_train.shape,Y_train.shape)\n",
        "print(X_val.shape,Y_val.shape)"
      ],
      "metadata": {
        "colab": {
          "base_uri": "https://localhost:8080/"
        },
        "id": "Io6g9osak0e9",
        "outputId": "dcd750d7-3875-48e2-e7f7-0dd430728093"
      },
      "execution_count": 21,
      "outputs": [
        {
          "output_type": "stream",
          "name": "stdout",
          "text": [
            "(63712, 250) (63712, 6)\n",
            "(15929, 250) (15929, 6)\n"
          ]
        }
      ]
    },
    {
      "cell_type": "code",
      "source": [
        "adam = Adam(learning_rate=0.0001)"
      ],
      "metadata": {
        "id": "L9NCfhbb3kx1"
      },
      "execution_count": 22,
      "outputs": []
    },
    {
      "cell_type": "code",
      "source": [
        "model = Sequential()\n",
        "model.add(Embedding(MAX_WORDS, EMBEDDING_LAYER_DIM, input_length=X.shape[1]))\n",
        "model.add(SpatialDropout1D(0.2))\n",
        "model.add(LSTM(100, dropout=0.2, recurrent_dropout=0.2))\n",
        "model.add(Dense(6, activation='softmax'))\n",
        "model.compile(loss='categorical_crossentropy', optimizer=adam, metrics=['accuracy'])\n",
        "print(model.summary())"
      ],
      "metadata": {
        "colab": {
          "base_uri": "https://localhost:8080/"
        },
        "id": "HEh2B5yPnFeO",
        "outputId": "1d803bd2-9436-495f-90d8-1ad9ffae71cd"
      },
      "execution_count": 23,
      "outputs": [
        {
          "output_type": "stream",
          "name": "stdout",
          "text": [
            "Model: \"sequential_1\"\n",
            "_________________________________________________________________\n",
            " Layer (type)                Output Shape              Param #   \n",
            "=================================================================\n",
            " embedding_1 (Embedding)     (None, 250, 100)          4100000   \n",
            "                                                                 \n",
            " spatial_dropout1d_1 (Spatia  (None, 250, 100)         0         \n",
            " lDropout1D)                                                     \n",
            "                                                                 \n",
            " lstm_1 (LSTM)               (None, 100)               80400     \n",
            "                                                                 \n",
            " dense_1 (Dense)             (None, 6)                 606       \n",
            "                                                                 \n",
            "=================================================================\n",
            "Total params: 4,181,006\n",
            "Trainable params: 4,181,006\n",
            "Non-trainable params: 0\n",
            "_________________________________________________________________\n",
            "None\n"
          ]
        }
      ]
    },
    {
      "cell_type": "code",
      "source": [
        "class TestCallback(tf.keras.callbacks.Callback):\n",
        "    def __init__(self, X_val, Y_val):\n",
        "        self.X_val = X_val\n",
        "        self.Y_val= Y_val\n",
        "\n",
        "    def on_epoch_end(self, epoch, logs):\n",
        "        print(\"\\nEvaluating model\")\n",
        "        metrics = self.model.evaluate(X_val, Y_val ,verbose=False)\n",
        "        print(f\"Model evaluation => loss : {metrics[0]}  accuracy: {metrics[1]}\",)"
      ],
      "metadata": {
        "id": "I3utDXu56rfm"
      },
      "execution_count": 26,
      "outputs": []
    },
    {
      "cell_type": "code",
      "source": [
        "epochs = 100\n",
        "batch_size = 64\n",
        "\n",
        "#training the model alongwith custom callback to evaluate after every epoch\n",
        "history = model.fit(X_train, Y_train, epochs=epochs, batch_size=batch_size,callbacks=[TestCallback(X_val,Y_val)])"
      ],
      "metadata": {
        "id": "rnST1EmsnJpZ",
        "collapsed": true
      },
      "execution_count": 27,
      "outputs": []
    },
    {
      "cell_type": "code",
      "source": [
        "model_json = model.to_json()\n",
        "with open('/content/drive/MyDrive/upd_model/model.json','w') as f:\n",
        "  f.write(model_json)"
      ],
      "metadata": {
        "id": "Y2cjEdDRgbER"
      },
      "execution_count": null,
      "outputs": []
    },
    {
      "cell_type": "code",
      "source": [
        "model.save_weights('/content/drive/MyDrive/upd_model/model.h5')"
      ],
      "metadata": {
        "id": "7NenvFVbhgJE"
      },
      "execution_count": null,
      "outputs": []
    }
  ]
}